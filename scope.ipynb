{
 "cells": [
  {
   "cell_type": "code",
   "execution_count": 1,
   "metadata": {},
   "outputs": [
    {
     "data": {
      "text/plain": [
       "42"
      ]
     },
     "execution_count": 1,
     "metadata": {},
     "output_type": "execute_result"
    }
   ],
   "source": [
    "42"
   ]
  },
  {
   "cell_type": "code",
   "execution_count": 2,
   "metadata": {},
   "outputs": [
    {
     "data": {
      "text/plain": [
       "42.0"
      ]
     },
     "execution_count": 2,
     "metadata": {},
     "output_type": "execute_result"
    }
   ],
   "source": [
    "42.0"
   ]
  },
  {
   "cell_type": "code",
   "execution_count": 3,
   "metadata": {},
   "outputs": [
    {
     "data": {
      "text/plain": [
       "42M"
      ]
     },
     "execution_count": 3,
     "metadata": {},
     "output_type": "execute_result"
    }
   ],
   "source": [
    "42.M"
   ]
  },
  {
   "cell_type": "code",
   "execution_count": 4,
   "metadata": {},
   "outputs": [
    {
     "data": {
      "text/plain": [
       "\"hello world\""
      ]
     },
     "execution_count": 4,
     "metadata": {},
     "output_type": "execute_result"
    }
   ],
   "source": [
    "\"hello world\""
   ]
  },
  {
   "cell_type": "code",
   "execution_count": 5,
   "metadata": {},
   "outputs": [
    {
     "data": {
      "text/plain": [
       "\\h"
      ]
     },
     "execution_count": 5,
     "metadata": {},
     "output_type": "execute_result"
    }
   ],
   "source": [
    "\\h"
   ]
  },
  {
   "cell_type": "code",
   "execution_count": 6,
   "metadata": {},
   "outputs": [
    {
     "data": {
      "text/plain": [
       "\\a"
      ]
     },
     "execution_count": 6,
     "metadata": {},
     "output_type": "execute_result"
    }
   ],
   "source": [
    "\\a"
   ]
  },
  {
   "cell_type": "markdown",
   "metadata": {},
   "source": [
    "### Keywords \n",
    ":last-name is a keyword. Keywords are just verbatim values that we can use for convenience. The magical property with Clojure keywords is that equality takes O(1) (Integer equality is O(logn), and string equality is O(n).)\n",
    "\n",
    "Keywords are like constant string. They are evaluated to themselves, and not bound by values."
   ]
  },
  {
   "cell_type": "code",
   "execution_count": 7,
   "metadata": {},
   "outputs": [
    {
     "data": {
      "text/plain": [
       ":Monday"
      ]
     },
     "execution_count": 7,
     "metadata": {},
     "output_type": "execute_result"
    }
   ],
   "source": [
    ":Monday"
   ]
  },
  {
   "cell_type": "markdown",
   "metadata": {},
   "source": [
    "### Symbols\n",
    "'last-name is a symbol. Symbols are also used in other programming languages, but only in Lisp can you create them at runtime.\n",
    "\n",
    "Symbols can be bound to values."
   ]
  },
  {
   "cell_type": "code",
   "execution_count": 8,
   "metadata": {},
   "outputs": [
    {
     "data": {
      "text/plain": [
       "Monday"
      ]
     },
     "execution_count": 8,
     "metadata": {},
     "output_type": "execute_result"
    }
   ],
   "source": [
    "'Monday"
   ]
  },
  {
   "cell_type": "markdown",
   "metadata": {},
   "source": [
    "### Lists\n",
    "A list is either data or function evaluation or function abstraction."
   ]
  },
  {
   "cell_type": "markdown",
   "metadata": {},
   "source": [
    "1. Function evaluation"
   ]
  },
  {
   "cell_type": "code",
   "execution_count": 10,
   "metadata": {},
   "outputs": [
    {
     "data": {
      "text/plain": [
       "6"
      ]
     },
     "execution_count": 10,
     "metadata": {},
     "output_type": "execute_result"
    }
   ],
   "source": [
    "(+ 1 2 3)"
   ]
  },
  {
   "cell_type": "markdown",
   "metadata": {},
   "source": [
    "2. For real list, you add ' before it."
   ]
  },
  {
   "cell_type": "code",
   "execution_count": 11,
   "metadata": {},
   "outputs": [
    {
     "data": {
      "text/plain": [
       "(\"hello\" \"world\" 123)"
      ]
     },
     "execution_count": 11,
     "metadata": {},
     "output_type": "execute_result"
    }
   ],
   "source": [
    "'(\"hello\" \"world\" 123)"
   ]
  },
  {
   "cell_type": "markdown",
   "metadata": {},
   "source": [
    "3. Function abstraction:\n",
    "(λ x. `<expr>`)"
   ]
  },
  {
   "cell_type": "code",
   "execution_count": 15,
   "metadata": {},
   "outputs": [
    {
     "data": {
      "text/plain": [
       "6"
      ]
     },
     "execution_count": 15,
     "metadata": {},
     "output_type": "execute_result"
    }
   ],
   "source": [
    "((fn [x y] (+ x x y y)) 1 (+ 1 1))"
   ]
  },
  {
   "cell_type": "markdown",
   "metadata": {},
   "source": [
    "### Hashmap\n",
    "Like Python dictionary. Difference is in clojure keys and values can be any datatypes, i.e., string, keywords, symbols, integers. <br>\n",
    "```clojure\n",
    "{key value\n",
    " key value\n",
    " key value}\n",
    "```"
   ]
  },
  {
   "cell_type": "code",
   "execution_count": 20,
   "metadata": {},
   "outputs": [
    {
     "data": {
      "text/plain": [
       "{\"first-name\" \"Richard\", \"last-name\" \"Feynman\", :profession \"Physicist\", :interests [\"Physics\" \"Drumming\"], user/interest \"Football\", user/siblings 3, 4 user/somenotes}"
      ]
     },
     "execution_count": 20,
     "metadata": {},
     "output_type": "execute_result"
    }
   ],
   "source": [
    "{\"first-name\"   \"Richard\"\n",
    " \"last-name\"    \"Feynman\"\n",
    " :profession    \"Physicist\"\n",
    " :interests     [\"Physics\" \"Drumming\"]\n",
    " `interest      \"Football\"\n",
    " `siblings      3\n",
    " 4              `somenotes\n",
    "}"
   ]
  },
  {
   "cell_type": "markdown",
   "metadata": {},
   "source": [
    "### Query in Hashmap by key\n",
    "```clojure\n",
    "(get $YOURMAP key)\n",
    "```\n",
    "\n",
    "_Note: Although you can use any datatype for the keys, using :keyword as key is more efficient._ <br>\n",
    "`(get $YOURMAP :keyword)` takes O(1) when lookup. <br>\n",
    "`(get $YOURMAP string)` takes O(n) linear time when lookup <br>\n"
   ]
  },
  {
   "cell_type": "code",
   "execution_count": 28,
   "metadata": {},
   "outputs": [
    {
     "data": {
      "text/plain": [
       "[\"Physics\" \"Drumming\"]"
      ]
     },
     "execution_count": 28,
     "metadata": {},
     "output_type": "execute_result"
    }
   ],
   "source": [
    "(get\n",
    "    {\"first-name\"   \"Richard\"\n",
    "     \"last-name\"    \"Feynman\"\n",
    "     :profession    \"Physicist\"\n",
    "     :interests     [\"Physics\" \"Drumming\"]\n",
    "     `interest      \"Football\"\n",
    "     `siblings      3\n",
    "     4              `somenotes}\n",
    " :interests)"
   ]
  },
  {
   "cell_type": "markdown",
   "metadata": {},
   "source": [
    "### Query in a List by Index\n",
    "```clojure\n",
    "(get $aList $Index)\n",
    "```"
   ]
  },
  {
   "cell_type": "code",
   "execution_count": 29,
   "metadata": {},
   "outputs": [
    {
     "data": {
      "text/plain": [
       "\"Physics\""
      ]
     },
     "execution_count": 29,
     "metadata": {},
     "output_type": "execute_result"
    }
   ],
   "source": [
    "(get\n",
    "    (get\n",
    "        {\"first-name\"   \"Richard\"\n",
    "         \"last-name\"    \"Feynman\"\n",
    "         :profession    \"Physicist\"\n",
    "         :interests     [\"Physics\" \"Drumming\"]\n",
    "         `interest      \"Football\"\n",
    "         `siblings      3\n",
    "         4              `somenotes}\n",
    "     :interests)\n",
    "0)"
   ]
  },
  {
   "cell_type": "markdown",
   "metadata": {},
   "source": [
    "### Top-Level Scope \n",
    "Like global variable.\n",
    "\n",
    "```clojure\n",
    "(def symbol value)\n",
    "```"
   ]
  },
  {
   "cell_type": "code",
   "execution_count": 47,
   "metadata": {},
   "outputs": [
    {
     "name": "stdout",
     "output_type": "stream",
     "text": [
      "The value of pi is:  3.1415926\r\n"
     ]
    },
    {
     "data": {
      "text/plain": [
       "nil"
      ]
     },
     "execution_count": 47,
     "metadata": {},
     "output_type": "execute_result"
    }
   ],
   "source": [
    "(def pi 3.1415926)\n",
    "\n",
    "(println \"The value of pi is: \" pi)"
   ]
  },
  {
   "cell_type": "markdown",
   "metadata": {},
   "source": [
    "### `def` not only bind values but also bind any valid lambda expression\n",
    "`def` not only can binds a value to a symbol, it can also bind a function expression to a symbol. Lambda calulus doesn't evaluate the symbol at real-time, so it doesn't matter what content you wish to bind to a symbol, as long as it's vald lambda expression. <br>\n",
    "\n",
    "```clojure\n",
    "(def symbol function)\n",
    "```\n",
    "\n",
    "The function is written in this format: <br>\n",
    "```clujure\n",
    "(fn [$argument] ($function_body))\n",
    "```"
   ]
  },
  {
   "cell_type": "code",
   "execution_count": 63,
   "metadata": {},
   "outputs": [
    {
     "name": "stdout",
     "output_type": "stream",
     "text": [
      "Evaluate the function deduct: 870.0\r\n"
     ]
    },
    {
     "data": {
      "text/plain": [
       "nil"
      ]
     },
     "execution_count": 63,
     "metadata": {},
     "output_type": "execute_result"
    }
   ],
   "source": [
    "(def tax 0.13)\n",
    "\n",
    "; define the var `deduct` to be global variable\n",
    "(def deduct (fn [income]\n",
    "                (- income (* income tax))))\n",
    "\n",
    "\n",
    "(println \"Evaluate the function deduct:\" (deduct 1000))"
   ]
  },
  {
   "cell_type": "markdown",
   "metadata": {},
   "source": [
    "### Define a scope\n",
    "\n",
    "This is how you define a scope. The value is bound to this symbol in this scope.\n",
    "```clojure\n",
    "(let [symbol value]\n",
    "     DO SOMETHING IN THIS SCOPE\n",
    ")\n",
    "```"
   ]
  },
  {
   "cell_type": "code",
   "execution_count": 36,
   "metadata": {},
   "outputs": [
    {
     "name": "stdout",
     "output_type": "stream",
     "text": [
      "The value of pi is: 3.14\r\n"
     ]
    },
    {
     "data": {
      "text/plain": [
       "nil"
      ]
     },
     "execution_count": 36,
     "metadata": {},
     "output_type": "execute_result"
    }
   ],
   "source": [
    "(let [pi 3.14]\n",
    "    (println \"The value of pi is:\" pi)\n",
    ")"
   ]
  },
  {
   "cell_type": "code",
   "execution_count": 37,
   "metadata": {},
   "outputs": [
    {
     "name": "stdout",
     "output_type": "stream",
     "text": [
      "The value of pi is: 3.1415926\r\n"
     ]
    },
    {
     "data": {
      "text/plain": [
       "nil"
      ]
     },
     "execution_count": 37,
     "metadata": {},
     "output_type": "execute_result"
    }
   ],
   "source": [
    "; In this case the (println pi) function is 'outside' of the scope, so it reads from the globacl var `pi`.\n",
    "(let [pi 3.1415]) \n",
    "\n",
    "(println \"The value of pi is:\" pi)"
   ]
  },
  {
   "cell_type": "markdown",
   "metadata": {},
   "source": [
    "### Parallel scopes"
   ]
  },
  {
   "cell_type": "code",
   "execution_count": 51,
   "metadata": {},
   "outputs": [
    {
     "name": "stdout",
     "output_type": "stream",
     "text": [
      "28.2735\n",
      "50.264\n"
     ]
    },
    {
     "data": {
      "text/plain": [
       "nil"
      ]
     },
     "execution_count": 51,
     "metadata": {},
     "output_type": "execute_result"
    }
   ],
   "source": [
    "(def PI 3.1415)\n",
    "\n",
    "; scope 1\n",
    "(let [r 3]\n",
    "    (println (* PI r r))\n",
    ")\n",
    "\n",
    "; scope 2\n",
    "(let [r 4]\n",
    "    (println (* PI r r))\n",
    ")"
   ]
  },
  {
   "cell_type": "markdown",
   "metadata": {},
   "source": [
    "### Nested scopes"
   ]
  },
  {
   "cell_type": "code",
   "execution_count": 53,
   "metadata": {},
   "outputs": [
    {
     "name": "stdout",
     "output_type": "stream",
     "text": [
      "28.2735\n",
      "28.274333400000003\n"
     ]
    },
    {
     "data": {
      "text/plain": [
       "nil"
      ]
     },
     "execution_count": 53,
     "metadata": {},
     "output_type": "execute_result"
    }
   ],
   "source": [
    "(def PI 3.1415926)\n",
    "\n",
    "; scope 1\n",
    "(let [PI 3.1415]\n",
    "    (let [r 3]   ; sub-scope of scope 1 \n",
    "        (println (* PI r r))\n",
    "    )\n",
    ")\n",
    "\n",
    "; scope 2\n",
    "(let [r 3]\n",
    "    (println (* PI r r))\n",
    ")"
   ]
  },
  {
   "cell_type": "markdown",
   "metadata": {},
   "source": [
    "### Test your understanding"
   ]
  },
  {
   "cell_type": "code",
   "execution_count": 55,
   "metadata": {},
   "outputs": [
    {
     "name": "stdout",
     "output_type": "stream",
     "text": [
      "Einstein Hi\r\n"
     ]
    },
    {
     "data": {
      "text/plain": [
       "nil"
      ]
     },
     "execution_count": 55,
     "metadata": {},
     "output_type": "execute_result"
    }
   ],
   "source": [
    "(def x \"Hello\")\n",
    "(def y \"World\")\n",
    "\n",
    "(let [y \"Hi\"]\n",
    "   (let [x \"Einstein\"]\n",
    "      (println x y)\n",
    "   )\n",
    ")"
   ]
  },
  {
   "cell_type": "markdown",
   "metadata": {},
   "source": [
    "### Lexical binding vs. Dynamic binding"
   ]
  },
  {
   "cell_type": "markdown",
   "metadata": {},
   "source": [
    "### Lexical binding\n",
    "If there is missing argument `z` in the function, then when the function is \"invocated\", which `z` the function reads? <br>\n",
    "-> It uses the `z` of which values is defined when the function \"declared\"."
   ]
  },
  {
   "cell_type": "code",
   "execution_count": 67,
   "metadata": {},
   "outputs": [
    {
     "name": "stdout",
     "output_type": "stream",
     "text": [
      "Take home today: 870.0\n",
      "Take home 870.0\n"
     ]
    },
    {
     "data": {
      "text/plain": [
       "nil"
      ]
     },
     "execution_count": 67,
     "metadata": {},
     "output_type": "execute_result"
    }
   ],
   "source": [
    "; scope 1\n",
    "(let [tax 0.13]\n",
    "    ; scope 1-1\n",
    "    (let [deduct (fn [income]  ; Note: `tax` is missing argument in the function.\n",
    "                     (- income (* income tax)))]   ; Function declaration: there is already a 'tax' bound to 0.13\n",
    "         (println \"Take home today:\" (deduct 1000))  ; Function invocation.\n",
    "        \n",
    "         ; scope 1-1-1\n",
    "         (let [tax 0.05]  ; because of lexical scoping is default: this becomes redundant.  \n",
    "              (println \"Take home\" (deduct 1000)) ; Function invocation.\n",
    "         )\n",
    "    )\n",
    ")"
   ]
  },
  {
   "cell_type": "code",
   "execution_count": 69,
   "metadata": {},
   "outputs": [
    {
     "name": "stdout",
     "output_type": "stream",
     "text": [
      "Take home today: 870.0\n",
      "Take home tomorrow:  950.0\n"
     ]
    },
    {
     "data": {
      "text/plain": [
       "nil"
      ]
     },
     "execution_count": 69,
     "metadata": {},
     "output_type": "execute_result"
    }
   ],
   "source": [
    "(def ^:dynamic tax 0.13) ; define a global dynamic variable `tax`\n",
    "\n",
    "; scope 1\n",
    "(let [deduct (fn [income]   ; var `tax` is missing in the function argument.\n",
    "                 (- income (* income tax)))]        ; Function declaration.\n",
    "     (println \"Take home today:\" (deduct 1000))     ; Functin invocation  \n",
    "                         \n",
    "     (binding [tax 0.05]  ; because of dynamic binding is used here: instead of reading in the pre-defined `tax`, the dynamic value = 0.05 is used here.\n",
    "              (println \"Take home tomorrow: \" (deduct 1000))  ; Functin invocation\n",
    "     )   \n",
    ")"
   ]
  },
  {
   "cell_type": "markdown",
   "metadata": {},
   "source": [
    "### Test your understanding\n",
    "You can skip this one, because this is not in the lecture example, and I don't know why dynamic binding does not work here."
   ]
  },
  {
   "cell_type": "code",
   "execution_count": 83,
   "metadata": {},
   "outputs": [
    {
     "name": "stdout",
     "output_type": "stream",
     "text": [
      "Take home today: 100.0\n",
      "Take home tomorrow:  100.0\n"
     ]
    },
    {
     "data": {
      "text/plain": [
       "nil"
      ]
     },
     "execution_count": 83,
     "metadata": {},
     "output_type": "execute_result"
    }
   ],
   "source": [
    "(def ^:dynamic tax 0.13)\n",
    "\n",
    "; scope 1\n",
    "(let [tax 0.9]\n",
    "    ; scope 1-1\n",
    "    (let [deduct (fn [income]\n",
    "                     (- income (* income tax)))] ; When this function declared, 'tax' is defined at one level up\n",
    "         (println \"Take home today:\" (deduct 1000)) ; Function invocation. \n",
    "    \n",
    "         (binding [tax 0.05]    ;I am not sure why the binding doesn't work here.\n",
    "                 (println \"Take home tomorrow: \" (deduct 1000)))  ; Function invocation\n",
    "    )\n",
    ")"
   ]
  },
  {
   "cell_type": "markdown",
   "metadata": {},
   "source": [
    "### Move the function declaration out to the top level scope"
   ]
  },
  {
   "cell_type": "code",
   "execution_count": 72,
   "metadata": {},
   "outputs": [
    {
     "name": "stdout",
     "output_type": "stream",
     "text": [
      "Take home today: 870.0\n",
      "Take home tomorrow:  950.0\n"
     ]
    },
    {
     "data": {
      "text/plain": [
       "nil"
      ]
     },
     "execution_count": 72,
     "metadata": {},
     "output_type": "execute_result"
    }
   ],
   "source": [
    "(def ^:dynamic tax 0.13)\n",
    "(def deduct (fn [income]\n",
    "                (- income (* income tax))))\n",
    "\n",
    "(let [income 1000]\n",
    "     (println \"Take home today:\" (deduct income))\n",
    "     \n",
    "     (binding [tax 0.05]\n",
    "              (println \"Take home tomorrow: \" (deduct 1000)))\n",
    ")"
   ]
  },
  {
   "cell_type": "markdown",
   "metadata": {},
   "source": [
    "### Another way to define a function\n",
    "```clojure\n",
    "(defn $FnName [$arguments] ($Function body))\n",
    "```"
   ]
  },
  {
   "cell_type": "code",
   "execution_count": 81,
   "metadata": {},
   "outputs": [
    {
     "name": "stdout",
     "output_type": "stream",
     "text": [
      "Take home today: 870.0\n",
      "Take home tomorrow:  950.0\n"
     ]
    },
    {
     "data": {
      "text/plain": [
       "nil"
      ]
     },
     "execution_count": 81,
     "metadata": {},
     "output_type": "execute_result"
    }
   ],
   "source": [
    "; In this case, the argument `options` is a hashmap.\n",
    "\n",
    "(defn deduct [options income]                                        ; defn $FnName [$arguments]\n",
    "    \n",
    "    ; scope within the function: var `tax` is bound to this scope\n",
    "    (let [tax (get options :tax)]                                    ; function body starts\n",
    "         (- income (* income tax))\n",
    "    )                                                                ; function body ends\n",
    ")\n",
    "\n",
    "(let [income 1000]\n",
    "    (println \"Take home today:\" (deduct {:tax 0.13} income))\n",
    "    (println \"Take home tomorrow: \" (deduct {:tax 0.05} income)))\n",
    "        "
   ]
  },
  {
   "cell_type": "code",
   "execution_count": 82,
   "metadata": {},
   "outputs": [
    {
     "name": "stdout",
     "output_type": "stream",
     "text": [
      "Take home today: 870.0\n",
      "Take home tomorrow:  950.0\n"
     ]
    },
    {
     "data": {
      "text/plain": [
       "nil"
      ]
     },
     "execution_count": 82,
     "metadata": {},
     "output_type": "execute_result"
    }
   ],
   "source": [
    "(defn deduct [options income]\n",
    "     (let [tax (get options :tax)]\n",
    "          (- income (* income tax)))\n",
    ")\n",
    "\n",
    "(let [income 1000]\n",
    "     (println \"Take home today:\" (let [ontario {:tax 0.13}]      ; replace the {:tax 0.13} with var `ontario`\n",
    "                                      (deduct ontario income)))\n",
    "     (println \"Take home tomorrow: \" (let [alberta {:tax 0.05}]  ; replace the {:tax 0.05} with var `alberta`\n",
    "                                      (deduct alberta income)))\n",
    ")\n",
    "        "
   ]
  },
  {
   "cell_type": "code",
   "execution_count": null,
   "metadata": {},
   "outputs": [],
   "source": []
  }
 ],
 "metadata": {
  "kernelspec": {
   "display_name": "Clojure (clojupyter=0.2.3)",
   "language": "clojure",
   "name": "conda-clojupyter"
  },
  "language_info": {
   "file_extension": ".clj",
   "mimetype": "text/x-clojure",
   "name": "clojure",
   "version": "1.10.1"
  }
 },
 "nbformat": 4,
 "nbformat_minor": 2
}
